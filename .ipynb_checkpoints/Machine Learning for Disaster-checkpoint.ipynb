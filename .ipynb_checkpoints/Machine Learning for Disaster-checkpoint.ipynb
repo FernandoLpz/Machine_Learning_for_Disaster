{
 "cells": [
  {
   "cell_type": "markdown",
   "metadata": {},
   "source": [
    "# Machine Learning for Disaster"
   ]
  },
  {
   "cell_type": "markdown",
   "metadata": {},
   "source": [
    "The sinking of the RMS Titanic is one of the most infamous shipwrecks in history.  On April 15, 1912, during her maiden voyage, the Titanic sank after colliding with an iceberg, killing 1502 out of 2224 passengers and crew. This sensational tragedy shocked the international community and led to better safety regulations for ships.\n",
    "\n",
    "One of the reasons that the shipwreck led to such loss of life was that there were not enough lifeboats for the passengers and crew. Although there was some element of luck involved in surviving the sinking, some groups of people were more likely to survive than others, such as women, children, and the upper-class.\n",
    "\n",
    "In this challenge, we ask you to complete the analysis of what sorts of people were likely to survive. In particular, we ask you to apply the tools of machine learning to predict which passengers survived the tragedy."
   ]
  },
  {
   "cell_type": "markdown",
   "metadata": {},
   "source": [
    "# 1. Introduction\n",
    "\n",
    "The idea of this work is to show in a simple and easy way, a solution for the classification problem in the Titanic disaster. In this notebook we use the XGBoost classifier."
   ]
  },
  {
   "cell_type": "markdown",
   "metadata": {},
   "source": [
    "# 2. Let's Start"
   ]
  },
  {
   "cell_type": "code",
   "execution_count": 1,
   "metadata": {
    "collapsed": false
   },
   "outputs": [],
   "source": [
    "\"\"\"Importing libraries and stuff\"\"\"\n",
    "# Author: Fernando-Lopez-Velasco\n",
    "\n",
    "import numpy as np\n",
    "import pandas as pd\n",
    "from sklearn.preprocessing import Imputer\n",
    "import category_encoders as ce\n",
    "from sklearn import preprocessing\n",
    "import xgboost as xgb\n",
    "from sklearn.metrics import accuracy_score\n",
    "from sklearn.ensemble import RandomForestClassifier"
   ]
  },
  {
   "cell_type": "code",
   "execution_count": 2,
   "metadata": {
    "collapsed": false
   },
   "outputs": [],
   "source": [
    "\"\"\"Loading files as a pandas dataframe\"\"\"\n",
    "\n",
    "train = pd.read_csv('train.csv')\n",
    "test = pd.read_csv('test.csv')"
   ]
  },
  {
   "cell_type": "code",
   "execution_count": 3,
   "metadata": {
    "collapsed": false
   },
   "outputs": [],
   "source": [
    "\"\"\"Splitting data\"\"\"\n",
    "\n",
    "Y = train['Survived'].copy() # We extract the target vector\n",
    "Xtrain = train.drop(['Survived','PassengerId', 'Name'], axis=1) # Drop some columns which are not useful\n",
    "Xtest = test.drop(['PassengerId','Name'], axis=1)"
   ]
  },
  {
   "cell_type": "code",
   "execution_count": 4,
   "metadata": {
    "collapsed": false
   },
   "outputs": [
    {
     "data": {
      "text/html": [
       "<div>\n",
       "<table border=\"1\" class=\"dataframe\">\n",
       "  <thead>\n",
       "    <tr style=\"text-align: right;\">\n",
       "      <th></th>\n",
       "      <th>Pclass</th>\n",
       "      <th>Sex</th>\n",
       "      <th>Age</th>\n",
       "      <th>SibSp</th>\n",
       "      <th>Parch</th>\n",
       "      <th>Ticket</th>\n",
       "      <th>Fare</th>\n",
       "      <th>Cabin</th>\n",
       "      <th>Embarked</th>\n",
       "    </tr>\n",
       "  </thead>\n",
       "  <tbody>\n",
       "    <tr>\n",
       "      <th>0</th>\n",
       "      <td>3</td>\n",
       "      <td>male</td>\n",
       "      <td>34.5</td>\n",
       "      <td>0</td>\n",
       "      <td>0</td>\n",
       "      <td>330911</td>\n",
       "      <td>7.8292</td>\n",
       "      <td>NaN</td>\n",
       "      <td>Q</td>\n",
       "    </tr>\n",
       "    <tr>\n",
       "      <th>1</th>\n",
       "      <td>3</td>\n",
       "      <td>female</td>\n",
       "      <td>47.0</td>\n",
       "      <td>1</td>\n",
       "      <td>0</td>\n",
       "      <td>363272</td>\n",
       "      <td>7.0000</td>\n",
       "      <td>NaN</td>\n",
       "      <td>S</td>\n",
       "    </tr>\n",
       "    <tr>\n",
       "      <th>2</th>\n",
       "      <td>2</td>\n",
       "      <td>male</td>\n",
       "      <td>62.0</td>\n",
       "      <td>0</td>\n",
       "      <td>0</td>\n",
       "      <td>240276</td>\n",
       "      <td>9.6875</td>\n",
       "      <td>NaN</td>\n",
       "      <td>Q</td>\n",
       "    </tr>\n",
       "    <tr>\n",
       "      <th>3</th>\n",
       "      <td>3</td>\n",
       "      <td>male</td>\n",
       "      <td>27.0</td>\n",
       "      <td>0</td>\n",
       "      <td>0</td>\n",
       "      <td>315154</td>\n",
       "      <td>8.6625</td>\n",
       "      <td>NaN</td>\n",
       "      <td>S</td>\n",
       "    </tr>\n",
       "    <tr>\n",
       "      <th>4</th>\n",
       "      <td>3</td>\n",
       "      <td>female</td>\n",
       "      <td>22.0</td>\n",
       "      <td>1</td>\n",
       "      <td>1</td>\n",
       "      <td>3101298</td>\n",
       "      <td>12.2875</td>\n",
       "      <td>NaN</td>\n",
       "      <td>S</td>\n",
       "    </tr>\n",
       "  </tbody>\n",
       "</table>\n",
       "</div>"
      ],
      "text/plain": [
       "   Pclass     Sex   Age  SibSp  Parch   Ticket     Fare Cabin Embarked\n",
       "0       3    male  34.5      0      0   330911   7.8292   NaN        Q\n",
       "1       3  female  47.0      1      0   363272   7.0000   NaN        S\n",
       "2       2    male  62.0      0      0   240276   9.6875   NaN        Q\n",
       "3       3    male  27.0      0      0   315154   8.6625   NaN        S\n",
       "4       3  female  22.0      1      1  3101298  12.2875   NaN        S"
      ]
     },
     "execution_count": 4,
     "metadata": {},
     "output_type": "execute_result"
    }
   ],
   "source": [
    "Xtest.head()"
   ]
  },
  {
   "cell_type": "markdown",
   "metadata": {},
   "source": [
    "# 3. Handling null values\n",
    "\n",
    "In this section we will to solve the problem with missing or null values"
   ]
  },
  {
   "cell_type": "code",
   "execution_count": 5,
   "metadata": {
    "collapsed": false
   },
   "outputs": [],
   "source": [
    "\"\"\"First we split data in categorical and no categorical values\"\"\"\n",
    "\n",
    "train_category = Xtrain.select_dtypes(include=['object']).copy()\n",
    "test_category = Xtest.select_dtypes(include=['object']).copy()\n",
    "train_float = Xtrain.select_dtypes(exclude=['object']).copy()\n",
    "test_float = Xtest.select_dtypes(exclude=['object']).copy()"
   ]
  },
  {
   "cell_type": "markdown",
   "metadata": {},
   "source": [
    "## 3.1 Null values in not categorical data\n",
    "\n",
    "First we need to implement some method to adress this problem, in this case we will use the Imputer method provided by scikit-learn."
   ]
  },
  {
   "cell_type": "code",
   "execution_count": 6,
   "metadata": {
    "collapsed": false
   },
   "outputs": [
    {
     "data": {
      "text/plain": [
       "Imputer(axis=0, copy=True, missing_values='NaN', strategy='mean', verbose=0)"
      ]
     },
     "execution_count": 6,
     "metadata": {},
     "output_type": "execute_result"
    }
   ],
   "source": [
    "imp = Imputer(missing_values='NaN', strategy='mean', axis=0)\n",
    "imp.fit(train_float)"
   ]
  },
  {
   "cell_type": "code",
   "execution_count": 7,
   "metadata": {
    "collapsed": true
   },
   "outputs": [],
   "source": [
    "Xtrain_float= imp.transform(train_float)\n",
    "Xtest_float = imp.transform(test_float)"
   ]
  },
  {
   "cell_type": "markdown",
   "metadata": {},
   "source": [
    "## 3.2 Transformation of categorical data into numerical format\n",
    "Now that we have solved the problem of null values in categorical data, we need to transform continuos values into discrete format. To do this we will use the technique \"Backward Difference Encoder\"."
   ]
  },
  {
   "cell_type": "code",
   "execution_count": 8,
   "metadata": {
    "collapsed": false
   },
   "outputs": [
    {
     "data": {
      "text/plain": [
       "BackwardDifferenceEncoder(cols=['Sex', 'Ticket', 'Cabin', 'Embarked'],\n",
       "             drop_invariant=False, handle_unknown='impute',\n",
       "             impute_missing=True, return_df=True, verbose=0)"
      ]
     },
     "execution_count": 8,
     "metadata": {},
     "output_type": "execute_result"
    }
   ],
   "source": [
    "\"\"\"Declaring the object of BackwardDifferenceEncoder and fitting\"\"\"\n",
    "\n",
    "encoder = ce.BackwardDifferenceEncoder(cols=['Sex', 'Ticket','Cabin','Embarked'])\n",
    "encoder.fit(train_category)"
   ]
  },
  {
   "cell_type": "code",
   "execution_count": 9,
   "metadata": {
    "collapsed": true
   },
   "outputs": [],
   "source": [
    "\"\"\"Transforming data\"\"\"\n",
    "\n",
    "Xtrain_category = encoder.transform(train_category)\n",
    "Xtest_category = encoder.transform(test_category)"
   ]
  },
  {
   "cell_type": "code",
   "execution_count": 10,
   "metadata": {
    "collapsed": false
   },
   "outputs": [],
   "source": [
    "\"\"\"We need to drop some columns, this is because the transformation have generated extra columns\"\"\"\n",
    "\n",
    "train_cols = Xtrain_category.columns\n",
    "test_cols = Xtest_category.columns"
   ]
  },
  {
   "cell_type": "code",
   "execution_count": 11,
   "metadata": {
    "collapsed": false
   },
   "outputs": [],
   "source": [
    "flag = 0\n",
    "cols_to_drop = []\n",
    "for i in train_cols:\n",
    "    for j in test_cols:\n",
    "        if i == j:\n",
    "            flag = 1\n",
    "    if flag == 0:\n",
    "        cols_to_drop.append(i)\n",
    "    else:\n",
    "        flag = 0"
   ]
  },
  {
   "cell_type": "code",
   "execution_count": 12,
   "metadata": {
    "collapsed": false
   },
   "outputs": [],
   "source": [
    "\"\"\"Dropping columns\"\"\"\n",
    "\n",
    "Xtrain_category = Xtrain_category.drop(cols_to_drop, axis=1)"
   ]
  },
  {
   "cell_type": "code",
   "execution_count": 13,
   "metadata": {
    "collapsed": false
   },
   "outputs": [
    {
     "name": "stdout",
     "output_type": "stream",
     "text": [
      "(891, 160)\n",
      "(418, 160)\n"
     ]
    }
   ],
   "source": [
    "print(Xtrain_category.shape)\n",
    "print(Xtest_category.shape)"
   ]
  },
  {
   "cell_type": "markdown",
   "metadata": {},
   "source": [
    "## 3.3 Null values in categorical data\n",
    "\n",
    "To solve the problem with null values in categorical data we will implement the Imputer function provided by scikit-learn."
   ]
  },
  {
   "cell_type": "code",
   "execution_count": 14,
   "metadata": {
    "collapsed": false
   },
   "outputs": [
    {
     "data": {
      "text/plain": [
       "Imputer(axis=0, copy=True, missing_values='NaN', strategy='mean', verbose=0)"
      ]
     },
     "execution_count": 14,
     "metadata": {},
     "output_type": "execute_result"
    }
   ],
   "source": [
    "\"\"\"Intialize the object imputer\"\"\"\n",
    "\n",
    "imp.fit(Xtrain_category)"
   ]
  },
  {
   "cell_type": "code",
   "execution_count": 15,
   "metadata": {
    "collapsed": false
   },
   "outputs": [],
   "source": [
    "\"\"\"Transforming data\"\"\"\n",
    "\n",
    "Xtrain_category = pd.DataFrame(imp.transform(Xtrain_category), columns = Xtrain_category.columns)\n",
    "Xtest_category = pd.DataFrame(imp.transform(Xtest_category), columns = Xtest_category.columns)"
   ]
  },
  {
   "cell_type": "markdown",
   "metadata": {},
   "source": [
    "# 4. Scaling data\n",
    "\n",
    "To scale data, we will use the function MinMaxScaler provided by scikit-learn."
   ]
  },
  {
   "cell_type": "code",
   "execution_count": 16,
   "metadata": {
    "collapsed": false
   },
   "outputs": [
    {
     "data": {
      "text/plain": [
       "MinMaxScaler(copy=True, feature_range=(0, 1))"
      ]
     },
     "execution_count": 16,
     "metadata": {},
     "output_type": "execute_result"
    }
   ],
   "source": [
    "\"\"\"Initializing and fiting\"\"\"\n",
    "\n",
    "min_max_scaler = preprocessing.MinMaxScaler()\n",
    "min_max_scaler.fit(Xtrain_float)"
   ]
  },
  {
   "cell_type": "code",
   "execution_count": 17,
   "metadata": {
    "collapsed": false
   },
   "outputs": [],
   "source": [
    "\"\"\"Scaling\"\"\"\n",
    "\n",
    "Xtrain_float = pd.DataFrame(min_max_scaler.transform(Xtrain_float), columns = train_float.columns)\n",
    "Xtest_float = pd.DataFrame(min_max_scaler.transform(Xtest_float), columns = test_float.columns)"
   ]
  },
  {
   "cell_type": "code",
   "execution_count": 18,
   "metadata": {
    "collapsed": false
   },
   "outputs": [
    {
     "data": {
      "text/html": [
       "<div>\n",
       "<table border=\"1\" class=\"dataframe\">\n",
       "  <thead>\n",
       "    <tr style=\"text-align: right;\">\n",
       "      <th></th>\n",
       "      <th>Pclass</th>\n",
       "      <th>Age</th>\n",
       "      <th>SibSp</th>\n",
       "      <th>Parch</th>\n",
       "      <th>Fare</th>\n",
       "    </tr>\n",
       "  </thead>\n",
       "  <tbody>\n",
       "    <tr>\n",
       "      <th>0</th>\n",
       "      <td>1.0</td>\n",
       "      <td>0.428248</td>\n",
       "      <td>0.000</td>\n",
       "      <td>0.000000</td>\n",
       "      <td>0.015282</td>\n",
       "    </tr>\n",
       "    <tr>\n",
       "      <th>1</th>\n",
       "      <td>1.0</td>\n",
       "      <td>0.585323</td>\n",
       "      <td>0.125</td>\n",
       "      <td>0.000000</td>\n",
       "      <td>0.013663</td>\n",
       "    </tr>\n",
       "    <tr>\n",
       "      <th>2</th>\n",
       "      <td>0.5</td>\n",
       "      <td>0.773813</td>\n",
       "      <td>0.000</td>\n",
       "      <td>0.000000</td>\n",
       "      <td>0.018909</td>\n",
       "    </tr>\n",
       "    <tr>\n",
       "      <th>3</th>\n",
       "      <td>1.0</td>\n",
       "      <td>0.334004</td>\n",
       "      <td>0.000</td>\n",
       "      <td>0.000000</td>\n",
       "      <td>0.016908</td>\n",
       "    </tr>\n",
       "    <tr>\n",
       "      <th>4</th>\n",
       "      <td>1.0</td>\n",
       "      <td>0.271174</td>\n",
       "      <td>0.125</td>\n",
       "      <td>0.166667</td>\n",
       "      <td>0.023984</td>\n",
       "    </tr>\n",
       "  </tbody>\n",
       "</table>\n",
       "</div>"
      ],
      "text/plain": [
       "   Pclass       Age  SibSp     Parch      Fare\n",
       "0     1.0  0.428248  0.000  0.000000  0.015282\n",
       "1     1.0  0.585323  0.125  0.000000  0.013663\n",
       "2     0.5  0.773813  0.000  0.000000  0.018909\n",
       "3     1.0  0.334004  0.000  0.000000  0.016908\n",
       "4     1.0  0.271174  0.125  0.166667  0.023984"
      ]
     },
     "execution_count": 18,
     "metadata": {},
     "output_type": "execute_result"
    }
   ],
   "source": [
    "Xtest_float.head()"
   ]
  },
  {
   "cell_type": "markdown",
   "metadata": {},
   "source": [
    "# 5. Concatenating categorical and numerical data"
   ]
  },
  {
   "cell_type": "code",
   "execution_count": 19,
   "metadata": {
    "collapsed": false
   },
   "outputs": [
    {
     "data": {
      "text/html": [
       "<div>\n",
       "<table border=\"1\" class=\"dataframe\">\n",
       "  <thead>\n",
       "    <tr style=\"text-align: right;\">\n",
       "      <th></th>\n",
       "      <th>col_Sex_0</th>\n",
       "      <th>col_Sex_1</th>\n",
       "      <th>col_Ticket_0</th>\n",
       "      <th>col_Ticket_1</th>\n",
       "      <th>col_Ticket_2</th>\n",
       "      <th>col_Ticket_3</th>\n",
       "      <th>col_Ticket_4</th>\n",
       "      <th>col_Ticket_5</th>\n",
       "      <th>col_Ticket_6</th>\n",
       "      <th>col_Ticket_7</th>\n",
       "      <th>...</th>\n",
       "      <th>col_Cabin_32</th>\n",
       "      <th>col_Cabin_33</th>\n",
       "      <th>col_Cabin_34</th>\n",
       "      <th>col_Cabin_35</th>\n",
       "      <th>col_Cabin_36</th>\n",
       "      <th>col_Cabin_37</th>\n",
       "      <th>col_Cabin_38</th>\n",
       "      <th>col_Embarked_0</th>\n",
       "      <th>col_Embarked_1</th>\n",
       "      <th>col_Embarked_2</th>\n",
       "    </tr>\n",
       "  </thead>\n",
       "  <tbody>\n",
       "    <tr>\n",
       "      <th>0</th>\n",
       "      <td>1.0</td>\n",
       "      <td>-0.5</td>\n",
       "      <td>1.0</td>\n",
       "      <td>-0.991379</td>\n",
       "      <td>-0.982759</td>\n",
       "      <td>-0.974138</td>\n",
       "      <td>-0.965517</td>\n",
       "      <td>-0.956897</td>\n",
       "      <td>-0.948276</td>\n",
       "      <td>-0.939655</td>\n",
       "      <td>...</td>\n",
       "      <td>-0.179487</td>\n",
       "      <td>-0.153846</td>\n",
       "      <td>-0.128205</td>\n",
       "      <td>-0.102564</td>\n",
       "      <td>-0.076923</td>\n",
       "      <td>-0.051282</td>\n",
       "      <td>-0.025641</td>\n",
       "      <td>1.0</td>\n",
       "      <td>0.333333</td>\n",
       "      <td>0.666667</td>\n",
       "    </tr>\n",
       "    <tr>\n",
       "      <th>1</th>\n",
       "      <td>1.0</td>\n",
       "      <td>0.5</td>\n",
       "      <td>1.0</td>\n",
       "      <td>-0.991379</td>\n",
       "      <td>-0.982759</td>\n",
       "      <td>-0.974138</td>\n",
       "      <td>-0.965517</td>\n",
       "      <td>-0.956897</td>\n",
       "      <td>-0.948276</td>\n",
       "      <td>-0.939655</td>\n",
       "      <td>...</td>\n",
       "      <td>-0.179487</td>\n",
       "      <td>-0.153846</td>\n",
       "      <td>-0.128205</td>\n",
       "      <td>-0.102564</td>\n",
       "      <td>-0.076923</td>\n",
       "      <td>-0.051282</td>\n",
       "      <td>-0.025641</td>\n",
       "      <td>1.0</td>\n",
       "      <td>-0.666667</td>\n",
       "      <td>-0.333333</td>\n",
       "    </tr>\n",
       "    <tr>\n",
       "      <th>2</th>\n",
       "      <td>1.0</td>\n",
       "      <td>-0.5</td>\n",
       "      <td>1.0</td>\n",
       "      <td>-0.991379</td>\n",
       "      <td>-0.982759</td>\n",
       "      <td>-0.974138</td>\n",
       "      <td>-0.965517</td>\n",
       "      <td>-0.956897</td>\n",
       "      <td>-0.948276</td>\n",
       "      <td>-0.939655</td>\n",
       "      <td>...</td>\n",
       "      <td>-0.179487</td>\n",
       "      <td>-0.153846</td>\n",
       "      <td>-0.128205</td>\n",
       "      <td>-0.102564</td>\n",
       "      <td>-0.076923</td>\n",
       "      <td>-0.051282</td>\n",
       "      <td>-0.025641</td>\n",
       "      <td>1.0</td>\n",
       "      <td>0.333333</td>\n",
       "      <td>0.666667</td>\n",
       "    </tr>\n",
       "    <tr>\n",
       "      <th>3</th>\n",
       "      <td>1.0</td>\n",
       "      <td>-0.5</td>\n",
       "      <td>1.0</td>\n",
       "      <td>-0.991379</td>\n",
       "      <td>-0.982759</td>\n",
       "      <td>-0.974138</td>\n",
       "      <td>-0.965517</td>\n",
       "      <td>-0.956897</td>\n",
       "      <td>-0.948276</td>\n",
       "      <td>-0.939655</td>\n",
       "      <td>...</td>\n",
       "      <td>-0.179487</td>\n",
       "      <td>-0.153846</td>\n",
       "      <td>-0.128205</td>\n",
       "      <td>-0.102564</td>\n",
       "      <td>-0.076923</td>\n",
       "      <td>-0.051282</td>\n",
       "      <td>-0.025641</td>\n",
       "      <td>1.0</td>\n",
       "      <td>-0.666667</td>\n",
       "      <td>-0.333333</td>\n",
       "    </tr>\n",
       "    <tr>\n",
       "      <th>4</th>\n",
       "      <td>1.0</td>\n",
       "      <td>0.5</td>\n",
       "      <td>1.0</td>\n",
       "      <td>0.008621</td>\n",
       "      <td>0.017241</td>\n",
       "      <td>0.025862</td>\n",
       "      <td>0.034483</td>\n",
       "      <td>0.043103</td>\n",
       "      <td>0.051724</td>\n",
       "      <td>0.060345</td>\n",
       "      <td>...</td>\n",
       "      <td>-0.179487</td>\n",
       "      <td>-0.153846</td>\n",
       "      <td>-0.128205</td>\n",
       "      <td>-0.102564</td>\n",
       "      <td>-0.076923</td>\n",
       "      <td>-0.051282</td>\n",
       "      <td>-0.025641</td>\n",
       "      <td>1.0</td>\n",
       "      <td>-0.666667</td>\n",
       "      <td>-0.333333</td>\n",
       "    </tr>\n",
       "  </tbody>\n",
       "</table>\n",
       "<p>5 rows × 160 columns</p>\n",
       "</div>"
      ],
      "text/plain": [
       "   col_Sex_0  col_Sex_1  col_Ticket_0  col_Ticket_1  col_Ticket_2  \\\n",
       "0        1.0       -0.5           1.0     -0.991379     -0.982759   \n",
       "1        1.0        0.5           1.0     -0.991379     -0.982759   \n",
       "2        1.0       -0.5           1.0     -0.991379     -0.982759   \n",
       "3        1.0       -0.5           1.0     -0.991379     -0.982759   \n",
       "4        1.0        0.5           1.0      0.008621      0.017241   \n",
       "\n",
       "   col_Ticket_3  col_Ticket_4  col_Ticket_5  col_Ticket_6  col_Ticket_7  \\\n",
       "0     -0.974138     -0.965517     -0.956897     -0.948276     -0.939655   \n",
       "1     -0.974138     -0.965517     -0.956897     -0.948276     -0.939655   \n",
       "2     -0.974138     -0.965517     -0.956897     -0.948276     -0.939655   \n",
       "3     -0.974138     -0.965517     -0.956897     -0.948276     -0.939655   \n",
       "4      0.025862      0.034483      0.043103      0.051724      0.060345   \n",
       "\n",
       "        ...        col_Cabin_32  col_Cabin_33  col_Cabin_34  col_Cabin_35  \\\n",
       "0       ...           -0.179487     -0.153846     -0.128205     -0.102564   \n",
       "1       ...           -0.179487     -0.153846     -0.128205     -0.102564   \n",
       "2       ...           -0.179487     -0.153846     -0.128205     -0.102564   \n",
       "3       ...           -0.179487     -0.153846     -0.128205     -0.102564   \n",
       "4       ...           -0.179487     -0.153846     -0.128205     -0.102564   \n",
       "\n",
       "   col_Cabin_36  col_Cabin_37  col_Cabin_38  col_Embarked_0  col_Embarked_1  \\\n",
       "0     -0.076923     -0.051282     -0.025641             1.0        0.333333   \n",
       "1     -0.076923     -0.051282     -0.025641             1.0       -0.666667   \n",
       "2     -0.076923     -0.051282     -0.025641             1.0        0.333333   \n",
       "3     -0.076923     -0.051282     -0.025641             1.0       -0.666667   \n",
       "4     -0.076923     -0.051282     -0.025641             1.0       -0.666667   \n",
       "\n",
       "   col_Embarked_2  \n",
       "0        0.666667  \n",
       "1       -0.333333  \n",
       "2        0.666667  \n",
       "3       -0.333333  \n",
       "4       -0.333333  \n",
       "\n",
       "[5 rows x 160 columns]"
      ]
     },
     "execution_count": 19,
     "metadata": {},
     "output_type": "execute_result"
    }
   ],
   "source": [
    "Xtest_category.head()"
   ]
  },
  {
   "cell_type": "code",
   "execution_count": 20,
   "metadata": {
    "collapsed": false
   },
   "outputs": [],
   "source": [
    "\"\"\"As we have two kinds of datasets which are categorical and not categorical data, we need to concatenate both\"\"\"\n",
    "\n",
    "Xtrain = pd.concat([Xtrain_float,Xtrain_category], axis=1)\n",
    "Xtest = pd.concat([Xtest_float,Xtest_category], axis=1)"
   ]
  },
  {
   "cell_type": "markdown",
   "metadata": {},
   "source": [
    "# 6. XBoost Classifier\n",
    "\n",
    "To solve this classification problem we will to apply the XBoost classifier."
   ]
  },
  {
   "cell_type": "code",
   "execution_count": 21,
   "metadata": {
    "collapsed": true
   },
   "outputs": [],
   "source": [
    "\"\"\"Initializing the XBoost classifier\"\"\"\n",
    "\n",
    "model = xgb.XGBClassifier(n_estimators=2000, max_depth=5, learning_rate=0.1)"
   ]
  },
  {
   "cell_type": "code",
   "execution_count": 22,
   "metadata": {
    "collapsed": false
   },
   "outputs": [
    {
     "data": {
      "text/plain": [
       "XGBClassifier(base_score=0.5, booster='gbtree', colsample_bylevel=1,\n",
       "       colsample_bytree=1, gamma=0, learning_rate=0.1, max_delta_step=0,\n",
       "       max_depth=5, min_child_weight=1, missing=None, n_estimators=2000,\n",
       "       n_jobs=1, nthread=None, objective='binary:logistic', random_state=0,\n",
       "       reg_alpha=0, reg_lambda=1, scale_pos_weight=1, seed=None,\n",
       "       silent=True, subsample=1)"
      ]
     },
     "execution_count": 22,
     "metadata": {},
     "output_type": "execute_result"
    }
   ],
   "source": [
    "\"\"\"Fitting\"\"\"\n",
    "\n",
    "model.fit(Xtrain, Y)"
   ]
  },
  {
   "cell_type": "code",
   "execution_count": 23,
   "metadata": {
    "collapsed": true
   },
   "outputs": [],
   "source": [
    "\"\"\"Making a prediction\"\"\"\n",
    "\n",
    "Ypred = model.predict(Xtest)"
   ]
  },
  {
   "cell_type": "code",
   "execution_count": 24,
   "metadata": {
    "collapsed": false
   },
   "outputs": [],
   "source": [
    "\"\"\"Saving data\"\"\"\n",
    "Ypred = pd.DataFrame({'Survived':Ypred})\n",
    "prediction = pd.concat([test['PassengerId'], Ypred], axis=1)\n",
    "prediction.to_csv('predictions_xboost.csv', sep=',', index=False)"
   ]
  },
  {
   "cell_type": "code",
   "execution_count": 25,
   "metadata": {
    "collapsed": false
   },
   "outputs": [
    {
     "data": {
      "text/html": [
       "<div>\n",
       "<table border=\"1\" class=\"dataframe\">\n",
       "  <thead>\n",
       "    <tr style=\"text-align: right;\">\n",
       "      <th></th>\n",
       "      <th>PassengerId</th>\n",
       "      <th>Survived</th>\n",
       "    </tr>\n",
       "  </thead>\n",
       "  <tbody>\n",
       "    <tr>\n",
       "      <th>0</th>\n",
       "      <td>892</td>\n",
       "      <td>0</td>\n",
       "    </tr>\n",
       "    <tr>\n",
       "      <th>1</th>\n",
       "      <td>893</td>\n",
       "      <td>0</td>\n",
       "    </tr>\n",
       "    <tr>\n",
       "      <th>2</th>\n",
       "      <td>894</td>\n",
       "      <td>0</td>\n",
       "    </tr>\n",
       "    <tr>\n",
       "      <th>3</th>\n",
       "      <td>895</td>\n",
       "      <td>1</td>\n",
       "    </tr>\n",
       "    <tr>\n",
       "      <th>4</th>\n",
       "      <td>896</td>\n",
       "      <td>0</td>\n",
       "    </tr>\n",
       "  </tbody>\n",
       "</table>\n",
       "</div>"
      ],
      "text/plain": [
       "   PassengerId  Survived\n",
       "0          892         0\n",
       "1          893         0\n",
       "2          894         0\n",
       "3          895         1\n",
       "4          896         0"
      ]
     },
     "execution_count": 25,
     "metadata": {},
     "output_type": "execute_result"
    }
   ],
   "source": [
    "prediction.head()"
   ]
  },
  {
   "cell_type": "code",
   "execution_count": null,
   "metadata": {
    "collapsed": true
   },
   "outputs": [],
   "source": []
  }
 ],
 "metadata": {
  "anaconda-cloud": {},
  "kernelspec": {
   "display_name": "Python [conda root]",
   "language": "python",
   "name": "conda-root-py"
  },
  "language_info": {
   "codemirror_mode": {
    "name": "ipython",
    "version": 3
   },
   "file_extension": ".py",
   "mimetype": "text/x-python",
   "name": "python",
   "nbconvert_exporter": "python",
   "pygments_lexer": "ipython3",
   "version": "3.5.2"
  }
 },
 "nbformat": 4,
 "nbformat_minor": 1
}
